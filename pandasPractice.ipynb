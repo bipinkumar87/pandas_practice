{
 "cells": [
  {
   "cell_type": "code",
   "execution_count": 1,
   "id": "ae968b02-1ed1-4311-8122-f3fd7d76d882",
   "metadata": {},
   "outputs": [],
   "source": [
    "import pandas as pd"
   ]
  },
  {
   "cell_type": "code",
   "execution_count": 2,
   "id": "ba349117-5baa-4698-8bc5-6cb9890fb1be",
   "metadata": {},
   "outputs": [
    {
     "name": "stdout",
     "output_type": "stream",
     "text": [
      "       name  age\n",
      "0      arti    1\n",
      "1  dakshita    2\n",
      "2    ankita    3\n"
     ]
    }
   ],
   "source": [
    "data={\"name\":[\"arti\",\"dakshita\",\"ankita\"],\"age\":[1,2,3]}\n",
    "df=pd.DataFrame(data)\n",
    "print(df)"
   ]
  },
  {
   "cell_type": "code",
   "execution_count": 4,
   "id": "6232f406-fff8-4de6-b3ed-f4bef27f6993",
   "metadata": {},
   "outputs": [
    {
     "name": "stdout",
     "output_type": "stream",
     "text": [
      "      Row ID Order Priority  Discount  Unit Price  Shipping Cost  Customer ID  \\\n",
      "0      20847           High      0.01        2.84           0.93            3   \n",
      "1      20228  Not Specified      0.02      500.98          26.00            5   \n",
      "2      21776       Critical      0.06        9.48           7.29           11   \n",
      "3      24844         Medium      0.09       78.69          19.99           14   \n",
      "4      24846         Medium      0.08        3.28           2.31           14   \n",
      "...      ...            ...       ...         ...            ...          ...   \n",
      "1947   19842           High      0.01       10.90           7.46         3397   \n",
      "1948   19843           High      0.10        7.99           5.03         3397   \n",
      "1949   26208  Not Specified      0.08       11.97           5.81         3399   \n",
      "1950   24911         Medium      0.10        9.38           4.93         3400   \n",
      "1951   25914           High      0.10      105.98          13.99         3403   \n",
      "\n",
      "          Customer Name       Ship Mode Customer Segment Product Category  \\\n",
      "0         Bonnie Potter     Express Air        Corporate  Office Supplies   \n",
      "1        Ronnie Proctor  Delivery Truck      Home Office        Furniture   \n",
      "2         Marcus Dunlap     Regular Air      Home Office        Furniture   \n",
      "3     Gwendolyn F Tyson     Regular Air   Small Business        Furniture   \n",
      "4     Gwendolyn F Tyson     Regular Air   Small Business  Office Supplies   \n",
      "...                 ...             ...              ...              ...   \n",
      "1947        Andrea Shaw     Regular Air   Small Business  Office Supplies   \n",
      "1948        Andrea Shaw     Regular Air   Small Business       Technology   \n",
      "1949        Marvin Reid     Regular Air   Small Business  Office Supplies   \n",
      "1950      Florence Gold     Express Air   Small Business        Furniture   \n",
      "1951      Tammy Buckley     Express Air         Consumer        Furniture   \n",
      "\n",
      "      ...   Region State or Province         City  Postal Code Order Date  \\\n",
      "0     ...     West        Washington    Anacortes        98221 2015-01-07   \n",
      "1     ...     West        California  San Gabriel        91776 2015-06-13   \n",
      "2     ...     East        New Jersey      Roselle         7203 2015-02-15   \n",
      "3     ...  Central         Minnesota   Prior Lake        55372 2015-05-12   \n",
      "4     ...  Central         Minnesota   Prior Lake        55372 2015-05-12   \n",
      "...   ...      ...               ...          ...          ...        ...   \n",
      "1947  ...  Central          Illinois     Danville        61832 2015-03-11   \n",
      "1948  ...  Central          Illinois     Danville        61832 2015-03-11   \n",
      "1949  ...  Central          Illinois  Des Plaines        60016 2015-03-29   \n",
      "1950  ...     East     West Virginia     Fairmont        26554 2015-04-04   \n",
      "1951  ...     West           Wyoming     Cheyenne        82001 2015-02-08   \n",
      "\n",
      "      Ship Date     Profit Quantity ordered new    Sales Order ID  \n",
      "0    2015-01-08     4.5600                    4    13.01    88522  \n",
      "1    2015-06-15  4390.3665                   12  6362.85    90193  \n",
      "2    2015-02-17   -53.8096                   22   211.15    90192  \n",
      "3    2015-05-14   803.4705                   16  1164.45    86838  \n",
      "4    2015-05-13   -24.0300                    7    22.23    86838  \n",
      "...         ...        ...                  ...      ...      ...  \n",
      "1947 2015-03-12  -116.7600                   18   207.31    87536  \n",
      "1948 2015-03-12  -160.9520                   22   143.12    87536  \n",
      "1949 2015-03-31   -41.8700                    5    59.98    87534  \n",
      "1950 2015-04-04   -24.7104                   15   135.78    87537  \n",
      "1951 2015-02-11   349.4850                    5   506.50    87530  \n",
      "\n",
      "[1952 rows x 25 columns]\n"
     ]
    }
   ],
   "source": [
    "data=pd.read_excel(\"one.xlsx\")\n",
    "print(data)"
   ]
  },
  {
   "cell_type": "code",
   "execution_count": 5,
   "id": "39cc8e6c-c1e9-4671-acde-0f391abc156a",
   "metadata": {},
   "outputs": [
    {
     "name": "stdout",
     "output_type": "stream",
     "text": [
      "   Row ID Order Priority  Discount  Unit Price  Shipping Cost  Customer ID  \\\n",
      "0   20847           High      0.01        2.84           0.93            3   \n",
      "1   20228  Not Specified      0.02      500.98          26.00            5   \n",
      "2   21776       Critical      0.06        9.48           7.29           11   \n",
      "3   24844         Medium      0.09       78.69          19.99           14   \n",
      "4   24846         Medium      0.08        3.28           2.31           14   \n",
      "5   24847         Medium      0.05        3.28           4.20           14   \n",
      "6   24848         Medium      0.05        3.58           1.63           14   \n",
      "7   18181       Critical      0.00        4.42           4.99           15   \n",
      "8   20925         Medium      0.01       35.94           6.66           15   \n",
      "9   26267           High      0.04        2.98           1.58           16   \n",
      "\n",
      "       Customer Name       Ship Mode Customer Segment Product Category  ...  \\\n",
      "0      Bonnie Potter     Express Air        Corporate  Office Supplies  ...   \n",
      "1     Ronnie Proctor  Delivery Truck      Home Office        Furniture  ...   \n",
      "2      Marcus Dunlap     Regular Air      Home Office        Furniture  ...   \n",
      "3  Gwendolyn F Tyson     Regular Air   Small Business        Furniture  ...   \n",
      "4  Gwendolyn F Tyson     Regular Air   Small Business  Office Supplies  ...   \n",
      "5  Gwendolyn F Tyson     Regular Air   Small Business  Office Supplies  ...   \n",
      "6  Gwendolyn F Tyson     Regular Air   Small Business  Office Supplies  ...   \n",
      "7      Timothy Reese     Regular Air   Small Business  Office Supplies  ...   \n",
      "8      Timothy Reese     Regular Air   Small Business  Office Supplies  ...   \n",
      "9       Sarah Ramsey     Regular Air   Small Business  Office Supplies  ...   \n",
      "\n",
      "    Region State or Province         City  Postal Code Order Date  Ship Date  \\\n",
      "0     West        Washington    Anacortes        98221 2015-01-07 2015-01-08   \n",
      "1     West        California  San Gabriel        91776 2015-06-13 2015-06-15   \n",
      "2     East        New Jersey      Roselle         7203 2015-02-15 2015-02-17   \n",
      "3  Central         Minnesota   Prior Lake        55372 2015-05-12 2015-05-14   \n",
      "4  Central         Minnesota   Prior Lake        55372 2015-05-12 2015-05-13   \n",
      "5  Central         Minnesota   Prior Lake        55372 2015-05-12 2015-05-13   \n",
      "6  Central         Minnesota   Prior Lake        55372 2015-05-12 2015-05-13   \n",
      "7     East          New York    Smithtown        11787 2015-04-08 2015-04-09   \n",
      "8     East          New York    Smithtown        11787 2015-05-28 2015-05-28   \n",
      "9     East          New York     Syracuse        13210 2015-02-12 2015-02-15   \n",
      "\n",
      "      Profit Quantity ordered new    Sales Order ID  \n",
      "0     4.5600                    4    13.01    88522  \n",
      "1  4390.3665                   12  6362.85    90193  \n",
      "2   -53.8096                   22   211.15    90192  \n",
      "3   803.4705                   16  1164.45    86838  \n",
      "4   -24.0300                    7    22.23    86838  \n",
      "5   -37.0300                    4    13.99    86838  \n",
      "6    -0.7100                    4    14.26    86838  \n",
      "7   -59.8200                    7    33.47    86837  \n",
      "8   261.8757                   10   379.53    86839  \n",
      "9     2.6300                    6    18.80    86836  \n",
      "\n",
      "[10 rows x 25 columns]\n"
     ]
    }
   ],
   "source": [
    "print(data.head(10))"
   ]
  },
  {
   "cell_type": "code",
   "execution_count": 7,
   "id": "f0688522-4228-4ba7-93a8-5c711bf2aa95",
   "metadata": {},
   "outputs": [
    {
     "name": "stdout",
     "output_type": "stream",
     "text": [
      "<class 'pandas.core.frame.DataFrame'>\n",
      "RangeIndex: 1952 entries, 0 to 1951\n",
      "Data columns (total 25 columns):\n",
      " #   Column                Non-Null Count  Dtype         \n",
      "---  ------                --------------  -----         \n",
      " 0   Row ID                1952 non-null   int64         \n",
      " 1   Order Priority        1952 non-null   object        \n",
      " 2   Discount              1952 non-null   float64       \n",
      " 3   Unit Price            1952 non-null   float64       \n",
      " 4   Shipping Cost         1952 non-null   float64       \n",
      " 5   Customer ID           1952 non-null   int64         \n",
      " 6   Customer Name         1952 non-null   object        \n",
      " 7   Ship Mode             1952 non-null   object        \n",
      " 8   Customer Segment      1952 non-null   object        \n",
      " 9   Product Category      1952 non-null   object        \n",
      " 10  Product Sub-Category  1952 non-null   object        \n",
      " 11  Product Container     1952 non-null   object        \n",
      " 12  Product Name          1952 non-null   object        \n",
      " 13  Product Base Margin   1936 non-null   float64       \n",
      " 14  Country               1952 non-null   object        \n",
      " 15  Region                1952 non-null   object        \n",
      " 16  State or Province     1952 non-null   object        \n",
      " 17  City                  1952 non-null   object        \n",
      " 18  Postal Code           1952 non-null   int64         \n",
      " 19  Order Date            1952 non-null   datetime64[ns]\n",
      " 20  Ship Date             1952 non-null   datetime64[ns]\n",
      " 21  Profit                1952 non-null   float64       \n",
      " 22  Quantity ordered new  1952 non-null   int64         \n",
      " 23  Sales                 1952 non-null   float64       \n",
      " 24  Order ID              1952 non-null   int64         \n",
      "dtypes: datetime64[ns](2), float64(6), int64(5), object(12)\n",
      "memory usage: 381.4+ KB\n",
      "None\n"
     ]
    }
   ],
   "source": [
    "print(data.info())"
   ]
  },
  {
   "cell_type": "code",
   "execution_count": 8,
   "id": "ae4a86e8-1947-4ab7-bcfd-30bf163bcfc7",
   "metadata": {},
   "outputs": [
    {
     "name": "stdout",
     "output_type": "stream",
     "text": [
      "             Row ID     Discount   Unit Price  Shipping Cost  Customer ID  \\\n",
      "count   1952.000000  1952.000000  1952.000000    1952.000000  1952.000000   \n",
      "mean   19916.479508     0.048975   109.079221      12.968151  1735.376537   \n",
      "min       64.000000     0.000000     1.140000       0.490000     3.000000   \n",
      "25%    19121.000000     0.020000     6.480000       3.230000   875.000000   \n",
      "50%    21164.500000     0.050000    20.990000       6.150000  1738.000000   \n",
      "75%    23483.250000     0.080000   100.972500      14.362500  2578.250000   \n",
      "max    26389.000000     0.210000  6783.020000     164.730000  3403.000000   \n",
      "std     5957.595627     0.031378   393.481301      17.414631   991.078006   \n",
      "\n",
      "       Product Base Margin   Postal Code                     Order Date  \\\n",
      "count          1936.000000   1952.000000                           1952   \n",
      "mean              0.515186  51534.769467  2015-03-29 01:21:08.852459008   \n",
      "min               0.350000   1001.000000            2015-01-01 00:00:00   \n",
      "25%               0.380000  28560.000000            2015-02-11 00:00:00   \n",
      "50%               0.525000  48765.500000            2015-03-27 12:00:00   \n",
      "75%               0.590000  78550.000000            2015-05-15 00:00:00   \n",
      "max               0.850000  99362.000000            2015-06-30 00:00:00   \n",
      "std               0.137055  29362.828420                            NaN   \n",
      "\n",
      "                           Ship Date        Profit  Quantity ordered new  \\\n",
      "count                           1952   1952.000000           1952.000000   \n",
      "mean   2015-03-30 23:55:34.426229248    114.793859             12.944672   \n",
      "min              2015-01-02 00:00:00 -16476.838000              1.000000   \n",
      "25%              2015-02-13 00:00:00    -84.485400              5.000000   \n",
      "50%              2015-03-29 00:00:00      1.476450             10.000000   \n",
      "75%              2015-05-16 00:00:00    116.201575             16.000000   \n",
      "max              2015-07-08 00:00:00   9228.225600            167.000000   \n",
      "std                              NaN   1141.112387             13.871565   \n",
      "\n",
      "              Sales      Order ID  \n",
      "count   1952.000000   1952.000000  \n",
      "mean     985.828832  82365.924180  \n",
      "min        2.250000    359.000000  \n",
      "25%       58.807500  86767.750000  \n",
      "50%      202.395000  88376.000000  \n",
      "75%      802.945000  89957.000000  \n",
      "max    45737.330000  91586.000000  \n",
      "std     2559.900167  19042.295798  \n"
     ]
    }
   ],
   "source": [
    "print(data.describe())"
   ]
  },
  {
   "cell_type": "code",
   "execution_count": 9,
   "id": "f6e387ea-77e8-427e-9f4c-a2f757954cd4",
   "metadata": {},
   "outputs": [
    {
     "name": "stdout",
     "output_type": "stream",
     "text": [
      "      Row ID  Order Priority  Discount  Unit Price  Shipping Cost  \\\n",
      "0      False           False     False       False          False   \n",
      "1      False           False     False       False          False   \n",
      "2      False           False     False       False          False   \n",
      "3      False           False     False       False          False   \n",
      "4      False           False     False       False          False   \n",
      "...      ...             ...       ...         ...            ...   \n",
      "1947   False           False     False       False          False   \n",
      "1948   False           False     False       False          False   \n",
      "1949   False           False     False       False          False   \n",
      "1950   False           False     False       False          False   \n",
      "1951   False           False     False       False          False   \n",
      "\n",
      "      Customer ID  Customer Name  Ship Mode  Customer Segment  \\\n",
      "0           False          False      False             False   \n",
      "1           False          False      False             False   \n",
      "2           False          False      False             False   \n",
      "3           False          False      False             False   \n",
      "4           False          False      False             False   \n",
      "...           ...            ...        ...               ...   \n",
      "1947        False          False      False             False   \n",
      "1948        False          False      False             False   \n",
      "1949        False          False      False             False   \n",
      "1950        False          False      False             False   \n",
      "1951        False          False      False             False   \n",
      "\n",
      "      Product Category  ...  Region  State or Province   City  Postal Code  \\\n",
      "0                False  ...   False              False  False        False   \n",
      "1                False  ...   False              False  False        False   \n",
      "2                False  ...   False              False  False        False   \n",
      "3                False  ...   False              False  False        False   \n",
      "4                False  ...   False              False  False        False   \n",
      "...                ...  ...     ...                ...    ...          ...   \n",
      "1947             False  ...   False              False  False        False   \n",
      "1948             False  ...   False              False  False        False   \n",
      "1949             False  ...   False              False  False        False   \n",
      "1950             False  ...   False              False  False        False   \n",
      "1951             False  ...   False              False  False        False   \n",
      "\n",
      "      Order Date  Ship Date  Profit  Quantity ordered new  Sales  Order ID  \n",
      "0          False      False   False                 False  False     False  \n",
      "1          False      False   False                 False  False     False  \n",
      "2          False      False   False                 False  False     False  \n",
      "3          False      False   False                 False  False     False  \n",
      "4          False      False   False                 False  False     False  \n",
      "...          ...        ...     ...                   ...    ...       ...  \n",
      "1947       False      False   False                 False  False     False  \n",
      "1948       False      False   False                 False  False     False  \n",
      "1949       False      False   False                 False  False     False  \n",
      "1950       False      False   False                 False  False     False  \n",
      "1951       False      False   False                 False  False     False  \n",
      "\n",
      "[1952 rows x 25 columns]\n"
     ]
    }
   ],
   "source": [
    "print(data.isnull())"
   ]
  },
  {
   "cell_type": "code",
   "execution_count": 10,
   "id": "32ceb548-6a5a-4d41-8f74-7a8e7a0d6b16",
   "metadata": {},
   "outputs": [
    {
     "name": "stdout",
     "output_type": "stream",
     "text": [
      "Row ID                   0\n",
      "Order Priority           0\n",
      "Discount                 0\n",
      "Unit Price               0\n",
      "Shipping Cost            0\n",
      "Customer ID              0\n",
      "Customer Name            0\n",
      "Ship Mode                0\n",
      "Customer Segment         0\n",
      "Product Category         0\n",
      "Product Sub-Category     0\n",
      "Product Container        0\n",
      "Product Name             0\n",
      "Product Base Margin     16\n",
      "Country                  0\n",
      "Region                   0\n",
      "State or Province        0\n",
      "City                     0\n",
      "Postal Code              0\n",
      "Order Date               0\n",
      "Ship Date                0\n",
      "Profit                   0\n",
      "Quantity ordered new     0\n",
      "Sales                    0\n",
      "Order ID                 0\n",
      "dtype: int64\n"
     ]
    }
   ],
   "source": [
    "print(data.isnull().sum())"
   ]
  },
  {
   "cell_type": "code",
   "execution_count": 13,
   "id": "8e0a4edc-37f7-44f4-b6c2-7ee923726c6b",
   "metadata": {},
   "outputs": [
    {
     "name": "stdout",
     "output_type": "stream",
     "text": [
      "0       False\n",
      "1       False\n",
      "2       False\n",
      "3       False\n",
      "4       False\n",
      "        ...  \n",
      "1947    False\n",
      "1948    False\n",
      "1949    False\n",
      "1950    False\n",
      "1951    False\n",
      "Length: 1952, dtype: bool\n"
     ]
    }
   ],
   "source": [
    "print(data.duplicated())"
   ]
  },
  {
   "cell_type": "raw",
   "id": "10f94ea0-68ee-4940-9d13-238a6b1ea271",
   "metadata": {},
   "source": [
    "print(data.duplicated().sum())"
   ]
  },
  {
   "cell_type": "code",
   "execution_count": 14,
   "id": "bd11c1a4-fdb8-4723-be4b-3253b6ea62ec",
   "metadata": {},
   "outputs": [
    {
     "name": "stdout",
     "output_type": "stream",
     "text": [
      "0\n"
     ]
    }
   ],
   "source": [
    "print(data.duplicated().sum())"
   ]
  },
  {
   "cell_type": "code",
   "execution_count": 19,
   "id": "d62c8d7c-6765-40d4-acf0-030f69760371",
   "metadata": {},
   "outputs": [
    {
     "name": "stdout",
     "output_type": "stream",
     "text": [
      "1\n"
     ]
    }
   ],
   "source": [
    "print(data[\"Row ID\"].duplicated().sum())"
   ]
  },
  {
   "cell_type": "code",
   "execution_count": 20,
   "id": "7b42becb-17ca-4247-8731-1f304246632f",
   "metadata": {},
   "outputs": [
    {
     "name": "stdout",
     "output_type": "stream",
     "text": [
      "0       False\n",
      "1       False\n",
      "2       False\n",
      "3       False\n",
      "4       False\n",
      "        ...  \n",
      "1947    False\n",
      "1948    False\n",
      "1949    False\n",
      "1950    False\n",
      "1951    False\n",
      "Name: Row ID, Length: 1952, dtype: bool\n"
     ]
    }
   ],
   "source": [
    "print(data[\"Row ID\"].duplicated())"
   ]
  },
  {
   "cell_type": "code",
   "execution_count": 21,
   "id": "bfa0a86f-64ee-45fb-b66e-37270c449fe2",
   "metadata": {},
   "outputs": [
    {
     "name": "stdout",
     "output_type": "stream",
     "text": [
      "      Row ID Order Priority  Discount  Unit Price  Shipping Cost  Customer ID  \\\n",
      "0      20847           High      0.01        2.84           0.93            3   \n",
      "1      20228  Not Specified      0.02      500.98          26.00            5   \n",
      "2      21776       Critical      0.06        9.48           7.29           11   \n",
      "3      24844         Medium      0.09       78.69          19.99           14   \n",
      "4      24846         Medium      0.08        3.28           2.31           14   \n",
      "...      ...            ...       ...         ...            ...          ...   \n",
      "1947   19842           High      0.01       10.90           7.46         3397   \n",
      "1948   19843           High      0.10        7.99           5.03         3397   \n",
      "1949   26208  Not Specified      0.08       11.97           5.81         3399   \n",
      "1950   24911         Medium      0.10        9.38           4.93         3400   \n",
      "1951   25914           High      0.10      105.98          13.99         3403   \n",
      "\n",
      "          Customer Name       Ship Mode Customer Segment Product Category  \\\n",
      "0         Bonnie Potter     Express Air        Corporate  Office Supplies   \n",
      "1        Ronnie Proctor  Delivery Truck      Home Office        Furniture   \n",
      "2         Marcus Dunlap     Regular Air      Home Office        Furniture   \n",
      "3     Gwendolyn F Tyson     Regular Air   Small Business        Furniture   \n",
      "4     Gwendolyn F Tyson     Regular Air   Small Business  Office Supplies   \n",
      "...                 ...             ...              ...              ...   \n",
      "1947        Andrea Shaw     Regular Air   Small Business  Office Supplies   \n",
      "1948        Andrea Shaw     Regular Air   Small Business       Technology   \n",
      "1949        Marvin Reid     Regular Air   Small Business  Office Supplies   \n",
      "1950      Florence Gold     Express Air   Small Business        Furniture   \n",
      "1951      Tammy Buckley     Express Air         Consumer        Furniture   \n",
      "\n",
      "      ...   Region State or Province         City  Postal Code Order Date  \\\n",
      "0     ...     West        Washington    Anacortes        98221 2015-01-07   \n",
      "1     ...     West        California  San Gabriel        91776 2015-06-13   \n",
      "2     ...     East        New Jersey      Roselle         7203 2015-02-15   \n",
      "3     ...  Central         Minnesota   Prior Lake        55372 2015-05-12   \n",
      "4     ...  Central         Minnesota   Prior Lake        55372 2015-05-12   \n",
      "...   ...      ...               ...          ...          ...        ...   \n",
      "1947  ...  Central          Illinois     Danville        61832 2015-03-11   \n",
      "1948  ...  Central          Illinois     Danville        61832 2015-03-11   \n",
      "1949  ...  Central          Illinois  Des Plaines        60016 2015-03-29   \n",
      "1950  ...     East     West Virginia     Fairmont        26554 2015-04-04   \n",
      "1951  ...     West           Wyoming     Cheyenne        82001 2015-02-08   \n",
      "\n",
      "      Ship Date     Profit Quantity ordered new    Sales Order ID  \n",
      "0    2015-01-08     4.5600                    4    13.01    88522  \n",
      "1    2015-06-15  4390.3665                   12  6362.85    90193  \n",
      "2    2015-02-17   -53.8096                   22   211.15    90192  \n",
      "3    2015-05-14   803.4705                   16  1164.45    86838  \n",
      "4    2015-05-13   -24.0300                    7    22.23    86838  \n",
      "...         ...        ...                  ...      ...      ...  \n",
      "1947 2015-03-12  -116.7600                   18   207.31    87536  \n",
      "1948 2015-03-12  -160.9520                   22   143.12    87536  \n",
      "1949 2015-03-31   -41.8700                    5    59.98    87534  \n",
      "1950 2015-04-04   -24.7104                   15   135.78    87537  \n",
      "1951 2015-02-11   349.4850                    5   506.50    87530  \n",
      "\n",
      "[1951 rows x 25 columns]\n"
     ]
    }
   ],
   "source": [
    "print(data.drop_duplicates(\"Row ID\"))"
   ]
  },
  {
   "cell_type": "code",
   "execution_count": 22,
   "id": "0e39e8b9-98da-49c8-baec-5adff6476023",
   "metadata": {},
   "outputs": [
    {
     "name": "stdout",
     "output_type": "stream",
     "text": [
      "Row ID                   0\n",
      "Order Priority           0\n",
      "Discount                 0\n",
      "Unit Price               0\n",
      "Shipping Cost            0\n",
      "Customer ID              0\n",
      "Customer Name            0\n",
      "Ship Mode                0\n",
      "Customer Segment         0\n",
      "Product Category         0\n",
      "Product Sub-Category     0\n",
      "Product Container        0\n",
      "Product Name             0\n",
      "Product Base Margin     16\n",
      "Country                  0\n",
      "Region                   0\n",
      "State or Province        0\n",
      "City                     0\n",
      "Postal Code              0\n",
      "Order Date               0\n",
      "Ship Date                0\n",
      "Profit                   0\n",
      "Quantity ordered new     0\n",
      "Sales                    0\n",
      "Order ID                 0\n",
      "dtype: int64\n"
     ]
    }
   ],
   "source": [
    "print(data.isnull().sum())"
   ]
  },
  {
   "cell_type": "code",
   "execution_count": 24,
   "id": "d97a49aa-80e4-4b6f-bab5-26d44c9fd093",
   "metadata": {},
   "outputs": [
    {
     "name": "stdout",
     "output_type": "stream",
     "text": [
      "0.5151859504132232\n"
     ]
    }
   ],
   "source": [
    "print(data[\"Product Base Margin\"].mean())"
   ]
  },
  {
   "cell_type": "code",
   "execution_count": 25,
   "id": "dd05a93c-9cb0-4349-ae37-0987f5ea24fe",
   "metadata": {},
   "outputs": [],
   "source": [
    "import numpy as np\n"
   ]
  },
  {
   "cell_type": "code",
   "execution_count": 27,
   "id": "8774771b-46b1-494f-bc92-7dd628a33aa3",
   "metadata": {},
   "outputs": [],
   "source": [
    "data[\"Product Base Margin\"]=data[\"Product Base Margin\"].replace(np.nan,0.515)"
   ]
  },
  {
   "cell_type": "code",
   "execution_count": 28,
   "id": "9b92c2f1-5572-43d3-b113-47c7c1005237",
   "metadata": {},
   "outputs": [
    {
     "name": "stdout",
     "output_type": "stream",
     "text": [
      "Row ID                  0\n",
      "Order Priority          0\n",
      "Discount                0\n",
      "Unit Price              0\n",
      "Shipping Cost           0\n",
      "Customer ID             0\n",
      "Customer Name           0\n",
      "Ship Mode               0\n",
      "Customer Segment        0\n",
      "Product Category        0\n",
      "Product Sub-Category    0\n",
      "Product Container       0\n",
      "Product Name            0\n",
      "Product Base Margin     0\n",
      "Country                 0\n",
      "Region                  0\n",
      "State or Province       0\n",
      "City                    0\n",
      "Postal Code             0\n",
      "Order Date              0\n",
      "Ship Date               0\n",
      "Profit                  0\n",
      "Quantity ordered new    0\n",
      "Sales                   0\n",
      "Order ID                0\n",
      "dtype: int64\n"
     ]
    }
   ],
   "source": [
    "print(data.isnull().sum())"
   ]
  },
  {
   "cell_type": "code",
   "execution_count": null,
   "id": "66deffaa-8383-41f7-87fb-90af2a6fa961",
   "metadata": {},
   "outputs": [],
   "source": []
  },
  {
   "cell_type": "code",
   "execution_count": null,
   "id": "7a198609-dcf5-444b-a6cf-dbd33ef74f5b",
   "metadata": {},
   "outputs": [],
   "source": []
  }
 ],
 "metadata": {
  "kernelspec": {
   "display_name": "Python 3 (ipykernel)",
   "language": "python",
   "name": "python3"
  },
  "language_info": {
   "codemirror_mode": {
    "name": "ipython",
    "version": 3
   },
   "file_extension": ".py",
   "mimetype": "text/x-python",
   "name": "python",
   "nbconvert_exporter": "python",
   "pygments_lexer": "ipython3",
   "version": "3.12.3"
  }
 },
 "nbformat": 4,
 "nbformat_minor": 5
}
